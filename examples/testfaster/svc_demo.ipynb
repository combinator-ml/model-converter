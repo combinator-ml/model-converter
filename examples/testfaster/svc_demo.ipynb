{
 "cells": [
  {
   "cell_type": "markdown",
   "id": "outstanding-dimension",
   "metadata": {},
   "source": [
    "# Chassis service"
   ]
  },
  {
   "cell_type": "markdown",
   "id": "arctic-original",
   "metadata": {},
   "source": [
    "Import libraries that have been installed before"
   ]
  },
  {
   "cell_type": "code",
   "execution_count": 1,
   "id": "a37fa609",
   "metadata": {},
   "outputs": [],
   "source": [
    "import chassisml\n",
    "import sklearn\n",
    "import mlflow.pyfunc\n",
    "from joblib import dump, load"
   ]
  },
  {
   "cell_type": "markdown",
   "id": "approximate-summary",
   "metadata": {},
   "source": [
    "### Train the model\n",
    "\n",
    "This will train a sklearn model and it will be saved as a joblib file inside the `model` directory.\n",
    "\n",
    "The goal for Chassis service is to create an image that exposes this model."
   ]
  },
  {
   "cell_type": "code",
   "execution_count": 2,
   "id": "f0bd3c2b",
   "metadata": {},
   "outputs": [
    {
     "data": {
      "text/plain": [
       "['./model.joblib']"
      ]
     },
     "execution_count": 2,
     "metadata": {},
     "output_type": "execute_result"
    }
   ],
   "source": [
    "from sklearn import datasets, svm\n",
    "from sklearn.model_selection import train_test_split\n",
    "\n",
    "digits = datasets.load_digits()\n",
    "data = digits.images.reshape((len(digits.images), -1))\n",
    "\n",
    "# Create a classifier: a support vector classifier\n",
    "clf = svm.SVC(gamma=0.001)\n",
    "\n",
    "# Split data into 50% train and 50% test subsets\n",
    "X_train, X_test, y_train, y_test = train_test_split(\n",
    "    data, digits.target, test_size=0.5, shuffle=False)\n",
    "\n",
    "# Learn the digits on the train subset\n",
    "clf.fit(X_train, y_train)\n",
    "dump(clf, './model.joblib')"
   ]
  },
  {
   "cell_type": "code",
   "execution_count": 3,
   "id": "04f23438",
   "metadata": {
    "pycharm": {
     "name": "#%%\n"
    }
   },
   "outputs": [],
   "source": [
    "# Wrap your model in a pyfunc and provide auxiliary functionality through extension of the\n",
    "# mlflow PythonModel class with methods pre_process, post_process, and explain\n",
    "\n",
    "class CustomModel(mlflow.pyfunc.PythonModel):\n",
    "    _model = load('./model.joblib')\n",
    "    \n",
    "    def load_context(self, context):\n",
    "        self.model = self._model\n",
    "\n",
    "    def predict(self, context, inputs):\n",
    "        processed_inputs = self.pre_process(inputs)\n",
    "        inference_results = self.model.predict(processed_inputs)\n",
    "        return self.post_process(inference_results)\n",
    "\n",
    "    def pre_process(self, inputs):\n",
    "        return inputs / 2\n",
    "\n",
    "    def post_process(self, inference_results):\n",
    "        structured_results = []\n",
    "        for inference_result in inference_results:\n",
    "            inference_result = {\n",
    "                \"classPredictions\": [\n",
    "                    {\"class\": str(inference_result), \"score\": str(1)}\n",
    "                ]\n",
    "            }\n",
    "            structured_output = {\n",
    "                \"data\": {\n",
    "                    \"result\": inference_result,\n",
    "                    \"explanation\": None,\n",
    "                    \"drift\": None,\n",
    "                }\n",
    "            }\n",
    "            structured_results.append(structured_output)\n",
    "        return structured_results\n",
    "\n",
    "    def explain(self, images):\n",
    "        pass"
   ]
  },
  {
   "cell_type": "code",
   "execution_count": 4,
   "id": "9d3f74bf",
   "metadata": {
    "pycharm": {
     "name": "#%%\n"
    }
   },
   "outputs": [],
   "source": [
    "# Define conda environment with all required dependencies for your model\n",
    "\n",
    "conda_env = {\n",
    "    \"channels\": [\"defaults\", \"conda-forge\", \"pytorch\"],\n",
    "    \"dependencies\": [\n",
    "        \"python=3.8.5\",\n",
    "        \"pytorch\",\n",
    "        \"torchvision\",\n",
    "        \"pip\",\n",
    "        {\n",
    "            \"pip\": [\n",
    "                \"mlflow\",\n",
    "                \"lime\",\n",
    "                \"sklearn\"\n",
    "            ],\n",
    "        },\n",
    "    ],\n",
    "    \"name\": \"linear_env\"\n",
    "}"
   ]
  },
  {
   "cell_type": "markdown",
   "id": "144cda6c",
   "metadata": {},
   "source": [
    "### Save the model\n",
    "\n",
    "Transform the model into MLFlow format."
   ]
  },
  {
   "cell_type": "code",
   "execution_count": 5,
   "id": "abedf16f",
   "metadata": {},
   "outputs": [],
   "source": [
    "model_save_path = \"mlflow_custom_pyfunc_svm\"\n",
    "mlflow.pyfunc.save_model(path=model_save_path, python_model=CustomModel(), conda_env=conda_env)"
   ]
  },
  {
   "cell_type": "markdown",
   "id": "1c819be5",
   "metadata": {},
   "source": [
    "Load the MLFlow model and test it."
   ]
  },
  {
   "cell_type": "code",
   "execution_count": 6,
   "id": "ac440385",
   "metadata": {
    "pycharm": {
     "name": "#%%\n"
    }
   },
   "outputs": [
    {
     "name": "stdout",
     "output_type": "stream",
     "text": [
      "{\n",
      "    \"data\": {\n",
      "        \"result\": {\n",
      "            \"classPredictions\": [\n",
      "                {\n",
      "                    \"class\": \"8\",\n",
      "                    \"score\": \"1\"\n",
      "                }\n",
      "            ]\n",
      "        },\n",
      "        \"explanation\": null,\n",
      "        \"drift\": null\n",
      "    }\n",
      "}\n"
     ]
    }
   ],
   "source": [
    "import json\n",
    "\n",
    "classifier = mlflow.pyfunc.load_model(model_save_path)\n",
    "predictions = classifier.predict(X_test)\n",
    "print(json.dumps(predictions[0], indent=4))"
   ]
  },
  {
   "cell_type": "markdown",
   "id": "noble-northern",
   "metadata": {},
   "source": [
    "We check that the model has been correctly saved inside the `model` directory."
   ]
  },
  {
   "cell_type": "code",
   "execution_count": 7,
   "id": "751ac7bd",
   "metadata": {},
   "outputs": [
    {
     "name": "stdout",
     "output_type": "stream",
     "text": [
      "conda.yaml  MLmodel  python_model.pkl  requirements.txt\r\n"
     ]
    }
   ],
   "source": [
    "!ls ./mlflow_custom_pyfunc_svm"
   ]
  },
  {
   "cell_type": "markdown",
   "id": "catholic-brazil",
   "metadata": {},
   "source": [
    "### Define the values needed\n",
    "\n",
    "Since now we are just creating and downloading the docker image, the only fields that Chassis service actually needs are:\n",
    "\n",
    "* `model_name`: name for the model inside the image\n",
    "* `model_path`: directory that contains our model file"
   ]
  },
  {
   "cell_type": "code",
   "execution_count": 8,
   "id": "9e17d7c6",
   "metadata": {},
   "outputs": [
    {
     "name": "stdout",
     "output_type": "stream",
     "text": [
      "XxXxXxXx\r\n"
     ]
    }
   ],
   "source": [
    "# !echo -n \"<user>:<password>\" | base64 # XXXX:XXXX -> XxXxXxXx\n",
    "!echo -n \"XXXX:XXXX\" | base64"
   ]
  },
  {
   "cell_type": "code",
   "execution_count": 9,
   "id": "ade0ef7b",
   "metadata": {},
   "outputs": [],
   "source": [
    "image_data = {\n",
    "    'name': 'XXXX/chassisml-sklearn-demo:latest',\n",
    "    'version': '0.0.1',\n",
    "    'model_name': 'digits',\n",
    "    'model_path': './mlflow_custom_pyfunc_svm',\n",
    "    'registry_auth': 'XxXxXxXx'\n",
    "}"
   ]
  },
  {
   "cell_type": "markdown",
   "id": "white-failing",
   "metadata": {},
   "source": [
    "### Launch the job\n",
    "\n",
    "Important fields that we should fill in here are:\n",
    "\n",
    "* `module`: library that has been used to create the model\n",
    "* `image_data`: the values defined above\n",
    "* `image_type`: this is needed in case we are training images so afterwards the proxy will know how to interpret data\n",
    "* `base_url`: the name of the service that runs Chassis"
   ]
  },
  {
   "cell_type": "code",
   "execution_count": 9,
   "id": "381c6360",
   "metadata": {},
   "outputs": [
    {
     "name": "stdout",
     "output_type": "stream",
     "text": [
      "Publishing container... Ok!\n",
      "Job ID: chassis-builder-job-0394c06e-b3fa-4258-bcb7-b9dce76b233e\n"
     ]
    }
   ],
   "source": [
    "res = chassis.publish(\n",
    "    image_data=image_data,\n",
    "    deploy=True,\n",
    "    base_url='http://chassis:5000'\n",
    ")\n",
    "\n",
    "error = res.get('error')\n",
    "job_id = res.get('job_id')\n",
    "\n",
    "if error:\n",
    "    print('Error:', error)\n",
    "else:\n",
    "    print('Job ID:', job_id)"
   ]
  },
  {
   "cell_type": "markdown",
   "id": "allied-arrow",
   "metadata": {},
   "source": [
    "After the request is made, Chassis launches a job that runs Kaniko and builds the docker image based on the values provided.\n",
    "\n",
    "You can get the id of the job created from the result of the request. This id can be used to ask for the status of the job."
   ]
  },
  {
   "cell_type": "code",
   "execution_count": 10,
   "id": "wound-steering",
   "metadata": {},
   "outputs": [
    {
     "data": {
      "text/plain": [
       "{'result': None,\n",
       " 'status': {'active': None,\n",
       "  'completion_time': 'Tue, 06 Jul 2021 09:57:41 GMT',\n",
       "  'conditions': [{'last_probe_time': 'Tue, 06 Jul 2021 09:57:41 GMT',\n",
       "    'last_transition_time': 'Tue, 06 Jul 2021 09:57:41 GMT',\n",
       "    'message': None,\n",
       "    'reason': None,\n",
       "    'status': 'True',\n",
       "    'type': 'Complete'}],\n",
       "  'failed': None,\n",
       "  'start_time': 'Tue, 06 Jul 2021 09:53:25 GMT',\n",
       "  'succeeded': 1}}"
      ]
     },
     "execution_count": 10,
     "metadata": {},
     "output_type": "execute_result"
    }
   ],
   "source": [
    "chassis.get_job_status(job_id)"
   ]
  },
  {
   "cell_type": "markdown",
   "id": "9e15304f",
   "metadata": {},
   "source": [
    "Now, we should be able to see the created image listed in the registry. This means that the service has correctly created the image and uploaded it."
   ]
  },
  {
   "cell_type": "markdown",
   "id": "considered-prison",
   "metadata": {},
   "source": [
    "### Pull the docker image\n",
    "\n",
    "Now that the job has finished, we can pull and load the docker image that has been generated."
   ]
  },
  {
   "cell_type": "code",
   "execution_count": 13,
   "id": "independent-diameter",
   "metadata": {
    "scrolled": true
   },
   "outputs": [
    {
     "name": "stdout",
     "output_type": "stream",
     "text": [
      "latest: Pulling from XXXX/chassisml-sklearn-demo\n",
      "\n",
      "\u001b[1B81a07f80: Already exists \n",
      "\u001b[1B0ae6b0ab: Pulling fs layer \n",
      "\u001b[1B57e3f39c: Pulling fs layer \n",
      "\u001b[1B4ba4cd3e: Pulling fs layer \n",
      "\u001b[1B14849d82: Pulling fs layer \n",
      "\u001b[2B14849d82: Waiting fs layer \n",
      "\u001b[1Bfb0632a0: Pulling fs layer \n",
      "\u001b[3B66153fff: Waiting fs layer \n",
      "\u001b[1Bf33e2f48: Pulling fs layer \n",
      "\u001b[1Bff3e1f88: Pull complete .11kB/4.11kBBBA\u001b[2K\u001b[8A\u001b[2K\u001b[9A\u001b[2K\u001b[8A\u001b[2K\u001b[7A\u001b[2K\u001b[7A\u001b[2K\u001b[4A\u001b[2K\u001b[5A\u001b[2K\u001b[6A\u001b[2K\u001b[5A\u001b[2K\u001b[5A\u001b[2K\u001b[6A\u001b[2K\u001b[5A\u001b[2K\u001b[5A\u001b[2K\u001b[6A\u001b[2K\u001b[5A\u001b[2K\u001b[6A\u001b[2K\u001b[6A\u001b[2K\u001b[6A\u001b[2K\u001b[6A\u001b[2K\u001b[3A\u001b[2K\u001b[6A\u001b[2K\u001b[3A\u001b[2K\u001b[2A\u001b[2K\u001b[6A\u001b[2K\u001b[6A\u001b[2K\u001b[6A\u001b[2K\u001b[3A\u001b[2K\u001b[6A\u001b[2K\u001b[3A\u001b[2K\u001b[6A\u001b[2K\u001b[3A\u001b[2K\u001b[3A\u001b[2K\u001b[6A\u001b[2K\u001b[1A\u001b[2K\u001b[3A\u001b[2K\u001b[6A\u001b[2K\u001b[3A\u001b[2K\u001b[6A\u001b[2K\u001b[6A\u001b[2K\u001b[6A\u001b[2K\u001b[6A\u001b[2K\u001b[6A\u001b[2K\u001b[6A\u001b[2K\u001b[6A\u001b[2K\u001b[6A\u001b[2K\u001b[6A\u001b[2K\u001b[6A\u001b[2K\u001b[6A\u001b[2K\u001b[6A\u001b[2K\u001b[6A\u001b[2K\u001b[6A\u001b[2K\u001b[6A\u001b[2K\u001b[6A\u001b[2K\u001b[6A\u001b[2K\u001b[6A\u001b[2K\u001b[6A\u001b[2K\u001b[6A\u001b[2K\u001b[6A\u001b[2K\u001b[6A\u001b[2K\u001b[6A\u001b[2K\u001b[6A\u001b[2K\u001b[6A\u001b[2K\u001b[6A\u001b[2K\u001b[6A\u001b[2K\u001b[6A\u001b[2K\u001b[6A\u001b[2K\u001b[6A\u001b[2K\u001b[6A\u001b[2K\u001b[6A\u001b[2K\u001b[6A\u001b[2K\u001b[6A\u001b[2K\u001b[6A\u001b[2K\u001b[6A\u001b[2K\u001b[6A\u001b[2K\u001b[6A\u001b[2K\u001b[6A\u001b[2K\u001b[6A\u001b[2K\u001b[6A\u001b[2K\u001b[6A\u001b[2K\u001b[6A\u001b[2K\u001b[6A\u001b[2K\u001b[6A\u001b[2K\u001b[6A\u001b[2K\u001b[6A\u001b[2K\u001b[6A\u001b[2K\u001b[6A\u001b[2K\u001b[6A\u001b[2K\u001b[6A\u001b[2K\u001b[6A\u001b[2K\u001b[6A\u001b[2K\u001b[6A\u001b[2K\u001b[6A\u001b[2K\u001b[6A\u001b[2K\u001b[6A\u001b[2K\u001b[6A\u001b[2K\u001b[6A\u001b[2K\u001b[6A\u001b[2K\u001b[6A\u001b[2K\u001b[6A\u001b[2K\u001b[6A\u001b[2K\u001b[6A\u001b[2K\u001b[6A\u001b[2K\u001b[6A\u001b[2K\u001b[6A\u001b[2K\u001b[6A\u001b[2K\u001b[6A\u001b[2K\u001b[6A\u001b[2K\u001b[6A\u001b[2K\u001b[6A\u001b[2K\u001b[6A\u001b[2K\u001b[6A\u001b[2K\u001b[6A\u001b[2K\u001b[6A\u001b[2K\u001b[6A\u001b[2K\u001b[6A\u001b[2K\u001b[6A\u001b[2K\u001b[6A\u001b[2K\u001b[6A\u001b[2K\u001b[6A\u001b[2K\u001b[6A\u001b[2K\u001b[6A\u001b[2K\u001b[6A\u001b[2K\u001b[6A\u001b[2K\u001b[6A\u001b[2K\u001b[6A\u001b[2K\u001b[6A\u001b[2K\u001b[6A\u001b[2K\u001b[6A\u001b[2K\u001b[6A\u001b[2K\u001b[6A\u001b[2K\u001b[6A\u001b[2K\u001b[6A\u001b[2K\u001b[6A\u001b[2K\u001b[6A\u001b[2K\u001b[6A\u001b[2K\u001b[6A\u001b[2K\u001b[6A\u001b[2K\u001b[6A\u001b[2K\u001b[6A\u001b[2K\u001b[6A\u001b[2K\u001b[6A\u001b[2K\u001b[6A\u001b[2K\u001b[6A\u001b[2K\u001b[6A\u001b[2K\u001b[6A\u001b[2K\u001b[6A\u001b[2K\u001b[6A\u001b[2K\u001b[6A\u001b[2K\u001b[6A\u001b[2K\u001b[6A\u001b[2K\u001b[6A\u001b[2K\u001b[6A\u001b[2K\u001b[6A\u001b[2K\u001b[6A\u001b[2K\u001b[6A\u001b[2K\u001b[6A\u001b[2K\u001b[6A\u001b[2K\u001b[6A\u001b[2K\u001b[6A\u001b[2K\u001b[6A\u001b[2K\u001b[6A\u001b[2K\u001b[6A\u001b[2K\u001b[6A\u001b[2K\u001b[6A\u001b[2K\u001b[6A\u001b[2K\u001b[6A\u001b[2K\u001b[6A\u001b[2K\u001b[6A\u001b[2K\u001b[6A\u001b[2K\u001b[6A\u001b[2K\u001b[6A\u001b[2K\u001b[6A\u001b[2K\u001b[6A\u001b[2K\u001b[6A\u001b[2K\u001b[6A\u001b[2K\u001b[6A\u001b[2K\u001b[6A\u001b[2K\u001b[6A\u001b[2K\u001b[6A\u001b[2K\u001b[6A\u001b[2K\u001b[6A\u001b[2K\u001b[6A\u001b[2K\u001b[6A\u001b[2K\u001b[6A\u001b[2K\u001b[6A\u001b[2K\u001b[6A\u001b[2K\u001b[6A\u001b[2K\u001b[6A\u001b[2K\u001b[6A\u001b[2K\u001b[6A\u001b[2K\u001b[6A\u001b[2K\u001b[6A\u001b[2K\u001b[6A\u001b[2K\u001b[6A\u001b[2K\u001b[6A\u001b[2K\u001b[6A\u001b[2K\u001b[6A\u001b[2K\u001b[6A\u001b[2K\u001b[6A\u001b[2K\u001b[6A\u001b[2K\u001b[6A\u001b[2K\u001b[6A\u001b[2K\u001b[6A\u001b[2K\u001b[6A\u001b[2K\u001b[6A\u001b[2K\u001b[6A\u001b[2K\u001b[6A\u001b[2K\u001b[6A\u001b[2K\u001b[6A\u001b[2K\u001b[6A\u001b[2K\u001b[6A\u001b[2K\u001b[6A\u001b[2K\u001b[6A\u001b[2K\u001b[6A\u001b[2K\u001b[6A\u001b[2K\u001b[6A\u001b[2K\u001b[6A\u001b[2K\u001b[6A\u001b[2K\u001b[6A\u001b[2K\u001b[6A\u001b[2K\u001b[6A\u001b[2K\u001b[6A\u001b[2K\u001b[6A\u001b[2K\u001b[6A\u001b[2K\u001b[6A\u001b[2K\u001b[6A\u001b[2K\u001b[6A\u001b[2K\u001b[6A\u001b[2K\u001b[6A\u001b[2K\u001b[6A\u001b[2K\u001b[6A\u001b[2K\u001b[6A\u001b[2K\u001b[6A\u001b[2K\u001b[6A\u001b[2K\u001b[6A\u001b[2K\u001b[6A\u001b[2K\u001b[6A\u001b[2K\u001b[6A\u001b[2K\u001b[6A\u001b[2K\u001b[6A\u001b[2K\u001b[6A\u001b[2K\u001b[6A\u001b[2K\u001b[6A\u001b[2K\u001b[6A\u001b[2K\u001b[6A\u001b[2K\u001b[6A\u001b[2K\u001b[6A\u001b[2K\u001b[6A\u001b[2K\u001b[6A\u001b[2K\u001b[6A\u001b[2K\u001b[6A\u001b[2K\u001b[6A\u001b[2K\u001b[6A\u001b[2K\u001b[6A\u001b[2K\u001b[6A\u001b[2K\u001b[6A\u001b[2K\u001b[6A\u001b[2K\u001b[6A\u001b[2K\u001b[6A\u001b[2K\u001b[6A\u001b[2K\u001b[6A\u001b[2K\u001b[6A\u001b[2K\u001b[6A\u001b[2K\u001b[6A\u001b[2K\u001b[6A\u001b[2K\u001b[6A\u001b[2K\u001b[6A\u001b[2K\u001b[6A\u001b[2K\u001b[6A\u001b[2K\u001b[6A\u001b[2K\u001b[6A\u001b[2K\u001b[6A\u001b[2K\u001b[6A\u001b[2K\u001b[6A\u001b[2K\u001b[6A\u001b[2K\u001b[6A\u001b[2K\u001b[6A\u001b[2K\u001b[6A\u001b[2K\u001b[6A\u001b[2K\u001b[6A\u001b[2K\u001b[6A\u001b[2K\u001b[6A\u001b[2K\u001b[6A\u001b[2K\u001b[6A\u001b[2K\u001b[6A\u001b[2K\u001b[6A\u001b[2K\u001b[6A\u001b[2K\u001b[6A\u001b[2K\u001b[6A\u001b[2K\u001b[6A\u001b[2K\u001b[6A\u001b[2K\u001b[6A\u001b[2K\u001b[6A\u001b[2K\u001b[6A\u001b[2K\u001b[6A\u001b[2K\u001b[6A\u001b[2K\u001b[6A\u001b[2K\u001b[6A\u001b[2K\u001b[6A\u001b[2K\u001b[6A\u001b[2K\u001b[6A\u001b[2K\u001b[6A\u001b[2K\u001b[6A\u001b[2K\u001b[6A\u001b[2K\u001b[6A\u001b[2K\u001b[6A\u001b[2K\u001b[6A\u001b[2K\u001b[6A\u001b[2K\u001b[6A\u001b[2K\u001b[6A\u001b[2K\u001b[6A\u001b[2K\u001b[6A\u001b[2K\u001b[6A\u001b[2K\u001b[6A\u001b[2K\u001b[6A\u001b[2K\u001b[6A\u001b[2K\u001b[6A\u001b[2K\u001b[6A\u001b[2K\u001b[6A\u001b[2K\u001b[6A\u001b[2K\u001b[6A\u001b[2K\u001b[6A\u001b[2K\u001b[6A\u001b[2K\u001b[6A\u001b[2K\u001b[6A\u001b[2K\u001b[6A\u001b[2K\u001b[6A\u001b[2K\u001b[6A\u001b[2K\u001b[6A\u001b[2K\u001b[6A\u001b[2K\u001b[6A\u001b[2K\u001b[6A\u001b[2K\u001b[6A\u001b[2K\u001b[6A\u001b[2K\u001b[6A\u001b[2K\u001b[6A\u001b[2K\u001b[6A\u001b[2K\u001b[6A\u001b[2K\u001b[6A\u001b[2K\u001b[6A\u001b[2K\u001b[6A\u001b[2K\u001b[6A\u001b[2K\u001b[6A\u001b[2K\u001b[6A\u001b[2K\u001b[6A\u001b[2K\u001b[6A\u001b[2K\u001b[6A\u001b[2K\u001b[6A\u001b[2K\u001b[6A\u001b[2K\u001b[6A\u001b[2K\u001b[6A\u001b[2K\u001b[6A\u001b[2K\u001b[6A\u001b[2K\u001b[6A\u001b[2K\u001b[6A\u001b[2K\u001b[6A\u001b[2K\u001b[6A\u001b[2K\u001b[6A\u001b[2K\u001b[6A\u001b[2K\u001b[6A\u001b[2K\u001b[6A\u001b[2K\u001b[6A\u001b[2K\u001b[6A\u001b[2K\u001b[6A\u001b[2K\u001b[6A\u001b[2K\u001b[6A\u001b[2K\u001b[6A\u001b[2K\u001b[6A\u001b[2K\u001b[6A\u001b[2K\u001b[6A\u001b[2K\u001b[6A\u001b[2K\u001b[6A\u001b[2K\u001b[6A\u001b[2K\u001b[6A\u001b[2K\u001b[6A\u001b[2K\u001b[6A\u001b[2K\u001b[6A\u001b[2K\u001b[6A\u001b[2K\u001b[6A\u001b[2K\u001b[6A\u001b[2K\u001b[6A\u001b[2K\u001b[6A\u001b[2K\u001b[6A\u001b[2KDownloading    476MB/765MB\u001b[6A\u001b[2K\u001b[6A\u001b[2K\u001b[6A\u001b[2K\u001b[6A\u001b[2K\u001b[6A\u001b[2K\u001b[6A\u001b[2K\u001b[6A\u001b[2K\u001b[6A\u001b[2K\u001b[6A\u001b[2K\u001b[6A\u001b[2K\u001b[6A\u001b[2K\u001b[6A\u001b[2K\u001b[6A\u001b[2K\u001b[6A\u001b[2K\u001b[6A\u001b[2K\u001b[6A\u001b[2K\u001b[6A\u001b[2K\u001b[6A\u001b[2K\u001b[6A\u001b[2K\u001b[6A\u001b[2K\u001b[6A\u001b[2K\u001b[6A\u001b[2K\u001b[6A\u001b[2K\u001b[6A\u001b[2K\u001b[6A\u001b[2K\u001b[6A\u001b[2K\u001b[6A\u001b[2K\u001b[6A\u001b[2K\u001b[6A\u001b[2K\u001b[6A\u001b[2K\u001b[6A\u001b[2K\u001b[6A\u001b[2K\u001b[6A\u001b[2K\u001b[6A\u001b[2K\u001b[6A\u001b[2K\u001b[6A\u001b[2K\u001b[6A\u001b[2K\u001b[6A\u001b[2K\u001b[6A\u001b[2K\u001b[6A\u001b[2K\u001b[6A\u001b[2K\u001b[6A\u001b[2K\u001b[6A\u001b[2K\u001b[6A\u001b[2K\u001b[6A\u001b[2K\u001b[6A\u001b[2K\u001b[6A\u001b[2K\u001b[6A\u001b[2K\u001b[6A\u001b[2K\u001b[6A\u001b[2K\u001b[6A\u001b[2K\u001b[6A\u001b[2K\u001b[6A\u001b[2K\u001b[6A\u001b[2K\u001b[6A\u001b[2K\u001b[6A\u001b[2K\u001b[6A\u001b[2K\u001b[6A\u001b[2K\u001b[6A\u001b[2K\u001b[6A\u001b[2K\u001b[6A\u001b[2K\u001b[6A\u001b[2K\u001b[6A\u001b[2K\u001b[6A\u001b[2K\u001b[6A\u001b[2K\u001b[6A\u001b[2K\u001b[6A\u001b[2K\u001b[6A\u001b[2K\u001b[6A\u001b[2K\u001b[6A\u001b[2K\u001b[6A\u001b[2K\u001b[6A\u001b[2K\u001b[6A\u001b[2K\u001b[6A\u001b[2K\u001b[6A\u001b[2K\u001b[6A\u001b[2K\u001b[6A\u001b[2K\u001b[6A\u001b[2K\u001b[6A\u001b[2K\u001b[6A\u001b[2K\u001b[6A\u001b[2K\u001b[6A\u001b[2K\u001b[6A\u001b[2K\u001b[6A\u001b[2K\u001b[6A\u001b[2K\u001b[6A\u001b[2K\u001b[6A\u001b[2K\u001b[6A\u001b[2K\u001b[6A\u001b[2K\u001b[6A\u001b[2K\u001b[6A\u001b[2K\u001b[6A\u001b[2K\u001b[6A\u001b[2K\u001b[6A\u001b[2K\u001b[6A\u001b[2K\u001b[6A\u001b[2K\u001b[6A\u001b[2K\u001b[6A\u001b[2K\u001b[6A\u001b[2K\u001b[6A\u001b[2K\u001b[6A\u001b[2K\u001b[6A\u001b[2K\u001b[6A\u001b[2K\u001b[6A\u001b[2K\u001b[6A\u001b[2K\u001b[6A\u001b[2K\u001b[6A\u001b[2K\u001b[6A\u001b[2K\u001b[6A\u001b[2K\u001b[6A\u001b[2K\u001b[6A\u001b[2K\u001b[6A\u001b[2K\u001b[6A\u001b[2K\u001b[6A\u001b[2K\u001b[6A\u001b[2K\u001b[6A\u001b[2K\u001b[6A\u001b[2K\u001b[6A\u001b[2K\u001b[6A\u001b[2K\u001b[6A\u001b[2K\u001b[6A\u001b[2K\u001b[6A\u001b[2K\u001b[6A\u001b[2K\u001b[6A\u001b[2K\u001b[6A\u001b[2K\u001b[6A\u001b[2K\u001b[6A\u001b[2K\u001b[6A\u001b[2K\u001b[6A\u001b[2K\u001b[6A\u001b[2K\u001b[6A\u001b[2K\u001b[6A\u001b[2K\u001b[6A\u001b[2K\u001b[6A\u001b[2K\u001b[6A\u001b[2K\u001b[6A\u001b[2K\u001b[6A\u001b[2K\u001b[6A\u001b[2K\u001b[6A\u001b[2K\u001b[6A\u001b[2K\u001b[6A\u001b[2K\u001b[6A\u001b[2K\u001b[6A\u001b[2K\u001b[6A\u001b[2K\u001b[6A\u001b[2K\u001b[6A\u001b[2K\u001b[6A\u001b[2K\u001b[6A\u001b[2K\u001b[6A\u001b[2K\u001b[6A\u001b[2K\u001b[6A\u001b[2K\u001b[6A\u001b[2K\u001b[6A\u001b[2K\u001b[6A\u001b[2K\u001b[6A\u001b[2K\u001b[6A\u001b[2K\u001b[6A\u001b[2K\u001b[6A\u001b[2K\u001b[6A\u001b[2K\u001b[6A\u001b[2K\u001b[6A\u001b[2K\u001b[6A\u001b[2K\u001b[6A\u001b[2K\u001b[6A\u001b[2K\u001b[6A\u001b[2K\u001b[6A\u001b[2K\u001b[6A\u001b[2K\u001b[6A\u001b[2K\u001b[6A\u001b[2K\u001b[6A\u001b[2K\u001b[6A\u001b[2K\u001b[6A\u001b[2K\u001b[6A\u001b[2K\u001b[6A\u001b[2K\u001b[6A\u001b[2K\u001b[6A\u001b[2K\u001b[6A\u001b[2K\u001b[6A\u001b[2K\u001b[6A\u001b[2K\u001b[6A\u001b[2K\u001b[6A\u001b[2K\u001b[6A\u001b[2K\u001b[6A\u001b[2K\u001b[6A\u001b[2K\u001b[6A\u001b[2K\u001b[6A\u001b[2K\u001b[6A\u001b[2K\u001b[6A\u001b[2K\u001b[6A\u001b[2K\u001b[6A\u001b[2K\u001b[6A\u001b[2K\u001b[6A\u001b[2K\u001b[6A\u001b[2K\u001b[6A\u001b[2K\u001b[6A\u001b[2K\u001b[6A\u001b[2K\u001b[6A\u001b[2K\u001b[6A\u001b[2K\u001b[6A\u001b[2K\u001b[6A\u001b[2K\u001b[6A\u001b[2K\u001b[6A\u001b[2K\u001b[6A\u001b[2K\u001b[6A\u001b[2K\u001b[6A\u001b[2K\u001b[6A\u001b[2K\u001b[6A\u001b[2K\u001b[6A\u001b[2K\u001b[6A\u001b[2K\u001b[6A\u001b[2K\u001b[6A\u001b[2K\u001b[6A\u001b[2K\u001b[6A\u001b[2K\u001b[6A\u001b[2K\u001b[6A\u001b[2K\u001b[6A\u001b[2K\u001b[6A\u001b[2K\u001b[6A\u001b[2K\u001b[6A\u001b[2K\u001b[6A\u001b[2K\u001b[6A\u001b[2K\u001b[6A\u001b[2K\u001b[6A\u001b[2K\u001b[6A\u001b[2K\u001b[6A\u001b[2K\u001b[6A\u001b[2K\u001b[6A\u001b[2K\u001b[6A\u001b[2K\u001b[6A\u001b[2K\u001b[6A\u001b[2K\u001b[6A\u001b[2K\u001b[6A\u001b[2K\u001b[6A\u001b[2K\u001b[6A\u001b[2K\u001b[6A\u001b[2K\u001b[6A\u001b[2K\u001b[6A\u001b[2K\u001b[6A\u001b[2K\u001b[6A\u001b[2K\u001b[6A\u001b[2K\u001b[6A\u001b[2K\u001b[6A\u001b[2K\u001b[6A\u001b[2K\u001b[6A\u001b[2K\u001b[6A\u001b[2K\u001b[6A\u001b[2K\u001b[6A\u001b[2K\u001b[6A\u001b[2K\u001b[6A\u001b[2K\u001b[6A\u001b[2K\u001b[6A\u001b[2K\u001b[6A\u001b[2K\u001b[6A\u001b[2K\u001b[6A\u001b[2K\u001b[6A\u001b[2K\u001b[6A\u001b[2K\u001b[6A\u001b[2K\u001b[6A\u001b[2K\u001b[6A\u001b[2K\u001b[6A\u001b[2K\u001b[6A\u001b[2K\u001b[6A\u001b[2K\u001b[6A\u001b[2K\u001b[6A\u001b[2K\u001b[6A\u001b[2K\u001b[6A\u001b[2K\u001b[6A\u001b[2K\u001b[6A\u001b[2K\u001b[6A\u001b[2K\u001b[6A\u001b[2K\u001b[6A\u001b[2K\u001b[6A\u001b[2K\u001b[6A\u001b[2K\u001b[6A\u001b[2K\u001b[6A\u001b[2K\u001b[6A\u001b[2K\u001b[6A\u001b[2K\u001b[6A\u001b[2K\u001b[6A\u001b[2K\u001b[6A\u001b[2K\u001b[6A\u001b[2K\u001b[6A\u001b[2K\u001b[6A\u001b[2K\u001b[6A\u001b[2K\u001b[6A\u001b[2K\u001b[6A\u001b[2K\u001b[6A\u001b[2K\u001b[6A\u001b[2K\u001b[6A\u001b[2K\u001b[6A\u001b[2K\u001b[6A\u001b[2K\u001b[6A\u001b[2K\u001b[6A\u001b[2K\u001b[6A\u001b[2K\u001b[6A\u001b[2K\u001b[6A\u001b[2K\u001b[6A\u001b[2K\u001b[6A\u001b[2K\u001b[6A\u001b[2K\u001b[6A\u001b[2K\u001b[6A\u001b[2K\u001b[6A\u001b[2K\u001b[6A\u001b[2K\u001b[6A\u001b[2K\u001b[6A\u001b[2K\u001b[6A\u001b[2K\u001b[6A\u001b[2K\u001b[6A\u001b[2K\u001b[6A\u001b[2K\u001b[6A\u001b[2K\u001b[6A\u001b[2K\u001b[6A\u001b[2K\u001b[6A\u001b[2K\u001b[6A\u001b[2K\u001b[6A\u001b[2K\u001b[6A\u001b[2K\u001b[6A\u001b[2K\u001b[6A\u001b[2K\u001b[5A\u001b[2K\u001b[5A\u001b[2K\u001b[5A\u001b[2K\u001b[4A\u001b[2K\u001b[3A\u001b[2K\u001b[3A\u001b[2K\u001b[3A\u001b[2K\u001b[3A\u001b[2K\u001b[3A\u001b[2K\u001b[3A\u001b[2K\u001b[3A\u001b[2K\u001b[2A\u001b[2K\u001b[1A\u001b[2KDigest: sha256:e0b7a5ccb8b1d01d7b467f1173a1c4059a49356a14f491abc9556f56ff312f26\n",
      "Status: Downloaded newer image for XXXX/chassisml-sklearn-demo:latest\n",
      "docker.io/XXXX/chassisml-sklearn-demo:latest\n"
     ]
    }
   ],
   "source": [
    "!docker pull XXXX/chassisml-sklearn-demo:latest"
   ]
  },
  {
   "cell_type": "code",
   "execution_count": 14,
   "id": "ordinary-majority",
   "metadata": {},
   "outputs": [
    {
     "name": "stdout",
     "output_type": "stream",
     "text": [
      "REPOSITORY                          TAG       IMAGE ID       CREATED         SIZE\r\n",
      "XXXX/chassisml-sklearn-demo   latest    0e5c5815f2ec   3 minutes ago   2.19GB\r\n"
     ]
    }
   ],
   "source": [
    "!docker images XXXX/chassisml-sklearn-demo:latest"
   ]
  },
  {
   "cell_type": "markdown",
   "id": "9c6712b9",
   "metadata": {},
   "source": [
    "### Download the tar file\n",
    "\n",
    "We can also download the docker image that has been generated in the form of a tar file."
   ]
  },
  {
   "cell_type": "code",
   "execution_count": 12,
   "id": "independent-diameter",
   "metadata": {},
   "outputs": [],
   "source": [
    "dst = './downloaded_image.tar'\n",
    "chassis.download_tar(job_id, dst)"
   ]
  },
  {
   "cell_type": "code",
   "execution_count": 13,
   "id": "11abea53",
   "metadata": {},
   "outputs": [
    {
     "name": "stdout",
     "output_type": "stream",
     "text": [
      "total 800636\r\n",
      "drwsrwsr-x 2 jovyan users      4096 Jun 12 09:49 work\r\n",
      "drwxr-sr-x 8 jovyan users      4096 Jul  6 09:39 containerizer\r\n",
      "-rw-r--r-- 1 jovyan users      7070 Jul  6 09:42 demo.ipynb\r\n",
      "drwxr-sr-x 3 jovyan users      4096 Jul  6 09:46 model\r\n",
      "-rw-r--r-- 1 jovyan users    344690 Jul  6 09:53 model.joblib\r\n",
      "drwxr-sr-x 2 jovyan users      4096 Jul  6 09:53 mlflow_custom_pyfunc_svm\r\n",
      "-rw-r--r-- 1 jovyan users     11156 Jul  6 09:55 svc_demo.ipynb\r\n",
      "-rw-r--r-- 1 jovyan users 819459584 Jul  6 09:57 downloaded_image.tar\r\n"
     ]
    }
   ],
   "source": [
    "!ls -ltr ./"
   ]
  },
  {
   "cell_type": "code",
   "execution_count": 14,
   "id": "instructional-local",
   "metadata": {},
   "outputs": [
    {
     "data": {
      "text/html": [
       "Click here to download: <a href='./downloaded_image.tar' target='_blank'>./downloaded_image.tar</a><br>"
      ],
      "text/plain": [
       "/home/jovyan/downloaded_image.tar"
      ]
     },
     "metadata": {},
     "output_type": "display_data"
    }
   ],
   "source": [
    "from IPython.display import display, FileLink\n",
    "\n",
    "local_file = FileLink(dst, result_html_prefix=\"Click here to download: \")\n",
    "display(local_file)"
   ]
  }
 ],
 "metadata": {
  "kernelspec": {
   "display_name": "Python 3",
   "language": "python",
   "name": "python3"
  },
  "language_info": {
   "codemirror_mode": {
    "name": "ipython",
    "version": 3
   },
   "file_extension": ".py",
   "mimetype": "text/x-python",
   "name": "python",
   "nbconvert_exporter": "python",
   "pygments_lexer": "ipython3",
   "version": "3.8.10"
  }
 },
 "nbformat": 4,
 "nbformat_minor": 5
}
